{
 "cells": [
  {
   "cell_type": "code",
   "execution_count": 1,
   "id": "a1f44bdd-f409-438a-8749-b68e2bb39e3f",
   "metadata": {},
   "outputs": [
    {
     "name": "stdout",
     "output_type": "stream",
     "text": [
      "Defaulting to user installation because normal site-packages is not writeable\n",
      "Requirement already satisfied: pandas in c:\\programdata\\anaconda3\\lib\\site-packages (1.4.4)\n",
      "Requirement already satisfied: numpy>=1.18.5 in c:\\programdata\\anaconda3\\lib\\site-packages (from pandas) (1.21.5)\n",
      "Requirement already satisfied: pytz>=2020.1 in c:\\programdata\\anaconda3\\lib\\site-packages (from pandas) (2022.1)\n",
      "Requirement already satisfied: python-dateutil>=2.8.1 in c:\\programdata\\anaconda3\\lib\\site-packages (from pandas) (2.8.2)\n",
      "Requirement already satisfied: six>=1.5 in c:\\programdata\\anaconda3\\lib\\site-packages (from python-dateutil>=2.8.1->pandas) (1.16.0)\n"
     ]
    }
   ],
   "source": [
    "!pip install pandas"
   ]
  },
  {
   "cell_type": "code",
   "execution_count": 7,
   "id": "19368106-47fb-4fd4-947e-b04ab3cf4649",
   "metadata": {},
   "outputs": [
    {
     "data": {
      "text/html": [
       "<div>\n",
       "<style scoped>\n",
       "    .dataframe tbody tr th:only-of-type {\n",
       "        vertical-align: middle;\n",
       "    }\n",
       "\n",
       "    .dataframe tbody tr th {\n",
       "        vertical-align: top;\n",
       "    }\n",
       "\n",
       "    .dataframe thead th {\n",
       "        text-align: right;\n",
       "    }\n",
       "</style>\n",
       "<table border=\"1\" class=\"dataframe\">\n",
       "  <thead>\n",
       "    <tr style=\"text-align: right;\">\n",
       "      <th></th>\n",
       "      <th>ANO_REFERENCIA</th>\n",
       "      <th>UF_ESCOLA</th>\n",
       "      <th>MUNICIPIO_ESCOLA</th>\n",
       "      <th>ESFERA_GOVERNO</th>\n",
       "      <th>LOCALIZACAO_ESCOLA</th>\n",
       "      <th>INEP_ESCOLA</th>\n",
       "      <th>NOME_ESCOLA</th>\n",
       "      <th>ALUNADO</th>\n",
       "      <th>TOTAL_RECEBIDO_ADESAO</th>\n",
       "      <th>Unnamed: 9</th>\n",
       "    </tr>\n",
       "  </thead>\n",
       "  <tbody>\n",
       "    <tr>\n",
       "      <th>0</th>\n",
       "      <td>2016</td>\n",
       "      <td>AC</td>\n",
       "      <td>ACRELANDIA</td>\n",
       "      <td>Estadual</td>\n",
       "      <td>Rural</td>\n",
       "      <td>12018422</td>\n",
       "      <td>ESC SANTA LUCIA III</td>\n",
       "      <td>60</td>\n",
       "      <td>R$ 6.060,00</td>\n",
       "      <td>NaN</td>\n",
       "    </tr>\n",
       "    <tr>\n",
       "      <th>1</th>\n",
       "      <td>2016</td>\n",
       "      <td>AC</td>\n",
       "      <td>BRASILEIA</td>\n",
       "      <td>Estadual</td>\n",
       "      <td>Urbana</td>\n",
       "      <td>12016250</td>\n",
       "      <td>ESC CEL MANOEL FONTENELE DE CASTRO</td>\n",
       "      <td>40</td>\n",
       "      <td>R$ 2.760,00</td>\n",
       "      <td>NaN</td>\n",
       "    </tr>\n",
       "    <tr>\n",
       "      <th>2</th>\n",
       "      <td>2016</td>\n",
       "      <td>AC</td>\n",
       "      <td>BRASILEIA</td>\n",
       "      <td>Estadual</td>\n",
       "      <td>Urbana</td>\n",
       "      <td>12016438</td>\n",
       "      <td>ESC GETULIO VARGAS</td>\n",
       "      <td>80</td>\n",
       "      <td>R$ 5.520,00</td>\n",
       "      <td>NaN</td>\n",
       "    </tr>\n",
       "    <tr>\n",
       "      <th>3</th>\n",
       "      <td>2016</td>\n",
       "      <td>AC</td>\n",
       "      <td>BRASILEIA</td>\n",
       "      <td>Estadual</td>\n",
       "      <td>Urbana</td>\n",
       "      <td>12017027</td>\n",
       "      <td>ESC INSTITUTO ODILON PRATAGI</td>\n",
       "      <td>40</td>\n",
       "      <td>R$ 2.760,00</td>\n",
       "      <td>NaN</td>\n",
       "    </tr>\n",
       "    <tr>\n",
       "      <th>4</th>\n",
       "      <td>2016</td>\n",
       "      <td>AC</td>\n",
       "      <td>BRASILEIA</td>\n",
       "      <td>Estadual</td>\n",
       "      <td>Rural</td>\n",
       "      <td>12026948</td>\n",
       "      <td>ESC VALERIA BISPO SABALA</td>\n",
       "      <td>40</td>\n",
       "      <td>R$ 4.040,00</td>\n",
       "      <td>NaN</td>\n",
       "    </tr>\n",
       "  </tbody>\n",
       "</table>\n",
       "</div>"
      ],
      "text/plain": [
       "   ANO_REFERENCIA UF_ESCOLA MUNICIPIO_ESCOLA ESFERA_GOVERNO  \\\n",
       "0            2016        AC       ACRELANDIA       Estadual   \n",
       "1            2016        AC        BRASILEIA       Estadual   \n",
       "2            2016        AC        BRASILEIA       Estadual   \n",
       "3            2016        AC        BRASILEIA       Estadual   \n",
       "4            2016        AC        BRASILEIA       Estadual   \n",
       "\n",
       "  LOCALIZACAO_ESCOLA  INEP_ESCOLA                         NOME_ESCOLA  \\\n",
       "0              Rural     12018422                 ESC SANTA LUCIA III   \n",
       "1             Urbana     12016250  ESC CEL MANOEL FONTENELE DE CASTRO   \n",
       "2             Urbana     12016438                  ESC GETULIO VARGAS   \n",
       "3             Urbana     12017027        ESC INSTITUTO ODILON PRATAGI   \n",
       "4              Rural     12026948            ESC VALERIA BISPO SABALA   \n",
       "\n",
       "   ALUNADO TOTAL_RECEBIDO_ADESAO  Unnamed: 9  \n",
       "0       60           R$ 6.060,00         NaN  \n",
       "1       40           R$ 2.760,00         NaN  \n",
       "2       80           R$ 5.520,00         NaN  \n",
       "3       40           R$ 2.760,00         NaN  \n",
       "4       40           R$ 4.040,00         NaN  "
      ]
     },
     "execution_count": 7,
     "metadata": {},
     "output_type": "execute_result"
    }
   ],
   "source": [
    "import pandas as pd\n",
    "\n",
    "arquivo = \"pda-repasses-mais-educacao-adesao-2016.csv\"\n",
    "df = pd.read_csv(arquivo, sep=';', encoding= 'latin1', nrows=1000)\n",
    "df.head()"
   ]
  },
  {
   "cell_type": "code",
   "execution_count": 8,
   "id": "8ed5489b-8f2f-4e7e-b136-bb7393f9a727",
   "metadata": {},
   "outputs": [
    {
     "name": "stdout",
     "output_type": "stream",
     "text": [
      "a media de ALUNADO e: 106.185\n"
     ]
    }
   ],
   "source": [
    "def calcular_media(df, ALUNADO):\n",
    "    media = df [ALUNADO].mean()\n",
    "    print(\"a media de ALUNADO e: \" +str(media))\n",
    "\n",
    "calcular_media(df, \"ALUNADO\")"
   ]
  },
  {
   "cell_type": "code",
   "execution_count": 13,
   "id": "bce3c46a-06d8-4c63-ae02-1870a820a0c9",
   "metadata": {},
   "outputs": [
    {
     "name": "stdout",
     "output_type": "stream",
     "text": [
      "A quantidade de alunos acima de 600 foram 19\n"
     ]
    }
   ],
   "source": [
    "valor_min = 600\n",
    "contador = 1\n",
    "\n",
    "for index, row in df.iterrows():\n",
    "    if row['ALUNADO'] > valor_min:\n",
    "        contador += 2\n",
    "print(f\"A quantidade de alunos acima de\", valor_min, \"foram\", contador)"
   ]
  },
  {
   "cell_type": "code",
   "execution_count": 14,
   "id": "d9ec4866-38e4-4db7-bff0-ff0495229b45",
   "metadata": {},
   "outputs": [
    {
     "name": "stdout",
     "output_type": "stream",
     "text": [
      "a media da quantidade de aluno foi: 106.19\n"
     ]
    }
   ],
   "source": [
    "from functools import reduce\n",
    "df['ALUNADO'] = pd.to_numeric(df['ALUNADO'], errors=\"coerce\")\n",
    "\n",
    "media_notas = reduce(lambda x, y: x +y, df['ALUNADO']) / len(df['ALUNADO'])\n",
    "print(\"a media da quantidade de aluno foi:\", round(media_notas, 2))"
   ]
  },
  {
   "cell_type": "code",
   "execution_count": null,
   "id": "0e5eaa56-53c1-42ac-881d-3213183a3617",
   "metadata": {},
   "outputs": [],
   "source": []
  }
 ],
 "metadata": {
  "kernelspec": {
   "display_name": "Python 3 (ipykernel)",
   "language": "python",
   "name": "python3"
  },
  "language_info": {
   "codemirror_mode": {
    "name": "ipython",
    "version": 3
   },
   "file_extension": ".py",
   "mimetype": "text/x-python",
   "name": "python",
   "nbconvert_exporter": "python",
   "pygments_lexer": "ipython3",
   "version": "3.9.13"
  }
 },
 "nbformat": 4,
 "nbformat_minor": 5
}
